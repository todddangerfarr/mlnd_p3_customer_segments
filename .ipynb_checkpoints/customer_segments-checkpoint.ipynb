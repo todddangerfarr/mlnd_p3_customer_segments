{
 "cells": [
  {
   "cell_type": "markdown",
   "metadata": {},
   "source": [
    "# Creating Customer Segments"
   ]
  },
  {
   "cell_type": "markdown",
   "metadata": {},
   "source": [
    "In this project you, will analyze a dataset containing annual spending amounts for internal structure, to understand the variation in the different types of customers that a wholesale distributor interacts with.\n",
    "\n",
    "Instructions:\n",
    "\n",
    "- Run each code block below by pressing **Shift+Enter**, making sure to implement any steps marked with a TODO.\n",
    "- Answer each question in the space provided by editing the blocks labeled \"Answer:\".\n",
    "- When you are done, submit the completed notebook (.ipynb) with all code blocks executed, as well as a .pdf version (File > Download as)."
   ]
  },
  {
   "cell_type": "code",
   "execution_count": 1,
   "metadata": {
    "collapsed": false
   },
   "outputs": [
    {
     "name": "stdout",
     "output_type": "stream",
     "text": [
      "Dataset has 440 rows, 6 columns\n",
      "   Fresh  Milk  Grocery  Frozen  Detergents_Paper  Delicatessen\n",
      "0  12669  9656     7561     214              2674          1338\n",
      "1   7057  9810     9568    1762              3293          1776\n",
      "2   6353  8808     7684    2405              3516          7844\n",
      "3  13265  1196     4221    6404               507          1788\n",
      "4  22615  5410     7198    3915              1777          5185\n"
     ]
    }
   ],
   "source": [
    "# Import libraries: NumPy, pandas, matplotlib\n",
    "import numpy as np\n",
    "import pandas as pd\n",
    "import matplotlib.pyplot as plt\n",
    "\n",
    "# Tell iPython to include plots inline in the notebook\n",
    "%matplotlib inline\n",
    "\n",
    "# Read dataset\n",
    "data = pd.read_csv(\"wholesale-customers.csv\")\n",
    "print \"Dataset has {} rows, {} columns\".format(*data.shape)\n",
    "print data.head()  # print the first 5 rows"
   ]
  },
  {
   "cell_type": "markdown",
   "metadata": {},
   "source": [
    "## Feature Transformation"
   ]
  },
  {
   "cell_type": "markdown",
   "metadata": {},
   "source": [
    "**1)** In this section you will be using PCA and ICA to start to understand the structure of the data. Before doing any computations, what do you think will show up in your computations? List one or two ideas for what might show up as the first PCA dimensions, or what type of vectors will show up as ICA dimensions."
   ]
  },
  {
   "cell_type": "markdown",
   "metadata": {},
   "source": [
    "Answer: \n",
    "PCA: PCA potentially allows us to identify components that collectively explain the variablity of our data set with a smaller of features by combining features that may represent the same underlying information. In this particular instance there's a high possibility of feature reduction and Fresh & Grocery features might represent the same categorical customers. \n",
    "\n",
    "\n",
    "ICA: Since ICA targets the indiviual and independent components of the data set, less general and more specific features like Detergents_Paper and Delicatessen will likely show up as ICA dimensions. "
   ]
  },
  {
   "cell_type": "markdown",
   "metadata": {},
   "source": [
    "### PCA"
   ]
  },
  {
   "cell_type": "code",
   "execution_count": 2,
   "metadata": {
    "collapsed": false
   },
   "outputs": [
    {
     "name": "stdout",
     "output_type": "stream",
     "text": [
      "[[-0.97653685 -0.12118407 -0.06154039 -0.15236462  0.00705417 -0.06810471]\n",
      " [-0.11061386  0.51580216  0.76460638 -0.01872345  0.36535076  0.05707921]\n",
      " [-0.17855726  0.50988675 -0.27578088  0.71420037 -0.20440987  0.28321747]\n",
      " [-0.04187648 -0.64564047  0.37546049  0.64629232  0.14938013 -0.02039579]\n",
      " [ 0.015986    0.20323566 -0.1602915   0.22018612  0.20793016 -0.91707659]\n",
      " [-0.01576316  0.03349187  0.41093894 -0.01328898 -0.87128428 -0.26541687]]\n",
      "[ 0.45961362  0.40517227  0.07003008  0.04402344  0.01502212  0.00613848]\n"
     ]
    }
   ],
   "source": [
    "# TODO: Apply PCA with the same number of dimensions as variables in the dataset\n",
    "from sklearn.decomposition import PCA\n",
    "pca = PCA(n_components = data.shape[1], whiten=True)\n",
    "\n",
    "pca.fit(data)\n",
    "\n",
    "# Print the components and the amount of variance in the data contained in each dimension\n",
    "print pca.components_\n",
    "print pca.explained_variance_ratio_"
   ]
  },
  {
   "cell_type": "markdown",
   "metadata": {},
   "source": [
    "**2)** How quickly does the variance drop off by dimension? If you were to use PCA on this dataset, how many dimensions would you choose for your analysis? Why?"
   ]
  },
  {
   "cell_type": "markdown",
   "metadata": {
    "collapsed": true
   },
   "source": [
    "Answer: The variance experiences near vertical drop off between the 2nd and 3rd dimensions.  For this reason if proceeding with PCA on this dataset only 2 dimensions would be choosen as they contain most of the customer segment information needed to draw meaningful conclusions. "
   ]
  },
  {
   "cell_type": "markdown",
   "metadata": {},
   "source": [
    "**3)** What do the dimensions seem to represent? How can you use this information?"
   ]
  },
  {
   "cell_type": "markdown",
   "metadata": {
    "collapsed": true
   },
   "source": [
    "Answer: The dimensions represent the features, you can use this information to reduce the dimensinaility of the model by selecting the features that have the least information loss. "
   ]
  },
  {
   "cell_type": "markdown",
   "metadata": {},
   "source": [
    "### ICA"
   ]
  },
  {
   "cell_type": "code",
   "execution_count": 25,
   "metadata": {
    "collapsed": false
   },
   "outputs": [
    {
     "name": "stdout",
     "output_type": "stream",
     "text": [
      "[[ 0.0034123  -0.01855953 -0.10947039  0.00723111  0.13349111  0.01603262]\n",
      " [-0.05025732  0.00662111  0.00717108  0.0032263  -0.01124562  0.00268826]\n",
      " [-0.00206726 -0.07231765  0.05593044  0.00173821 -0.01708052  0.0167555 ]\n",
      " [ 0.00252219 -0.01309664  0.06885948  0.00145751 -0.01297047 -0.0051378 ]\n",
      " [-0.01091353 -0.00101131  0.00730521  0.05405083 -0.00255761 -0.01672754]\n",
      " [-0.00490942 -0.00186832 -0.0054606  -0.00257198  0.00237383  0.05103474]]\n"
     ]
    },
    {
     "data": {
      "image/png": "[encoded data removed]",
      "text/plain": [
       "<matplotlib.figure.Figure at 0xc41dc88>"
      ]
     },
     "metadata": {},
     "output_type": "display_data"
    }
   ],
   "source": [
    "# TODO: Fit an ICA model to the data\n",
    "# Note: Adjust the data to have center at the origin first!\n",
    "from sklearn.decomposition import FastICA\n",
    "from sklearn.preprocessing import scale\n",
    "import seaborn as sns\n",
    "\n",
    "ica = FastICA(n_components = data.shape[1], whiten=True)\n",
    "data_scaled = scale(data) #scale data center to origin \n",
    "ica.fit(data_scaled)\n",
    "\n",
    "ax = sns.heatmap(ica.components_, annot=True)\n",
    "ax.set_xticklabels(data.columns, rotation='vertical')\n",
    "\n",
    "# Print the independent components\n",
    "print ica.components_"
   ]
  },
  {
   "cell_type": "markdown",
   "metadata": {},
   "source": [
    "**4)** For each vector in the ICA decomposition, write a sentence or two explaining what sort of object or property it corresponds to. What could these components be used for?"
   ]
  },
  {
   "cell_type": "markdown",
   "metadata": {
    "collapsed": true
   },
   "source": [
    "Answer: \n",
    "\n",
    "1.\tThe first component vector of this ICA indicates a particular customer that purchases Grocery items and Detergent/Paper items inversely proportionate from each other.  Meaning that they purchase almost equal amounts of those items but always at different times. \n",
    "\n",
    "2.\tThe second vector represents a customer who purchases milk, grocery, frozen and delicatessen.  This could potentially represent a gas station or convenient type store that has treats and essential groceries but isn’t that concerned about stocking fresh produce or Detergents/Paper. \n",
    "\n",
    "3.\tThe third component vector has inverse purchase cycles for Milk and Grocery items which could just indicate that the stocking of these items are on different days of the week. \n",
    "\n",
    "4.\tThe fourth component of the ICA is primarily buying grocery items that would indicate this customer is likely a smaller general purpose grocery store. \n",
    "\n",
    "5.\tThe fifth vector indicates this particular customer is typical purchasing frozen items and would likely be a specialty type store. \n",
    "\n",
    "6.\tLastly, the sixth ICA component indicates this particular customer type buys mostly delicatessen items which indicate it would most likely be similar to a New Seasons type of store with a large deli and prepared foods section.  "
   ]
  },
  {
   "cell_type": "markdown",
   "metadata": {},
   "source": [
    "## Clustering\n",
    "\n",
    "In this section you will choose either K Means clustering or Gaussian Mixed Models clustering, which implements expectation-maximization. Then you will sample elements from the clusters to understand their significance."
   ]
  },
  {
   "cell_type": "markdown",
   "metadata": {},
   "source": [
    "### Choose a Cluster Type\n",
    "\n",
    "**5)** What are the advantages of using K Means clustering or Gaussian Mixture Models?"
   ]
  },
  {
   "cell_type": "markdown",
   "metadata": {},
   "source": [
    "Answer: K-Means is a very simple and effective clustering algorithm that randomly assigns locations to k-centers in the feature space.  It then calculates the distances between these centers and each point, and assigns the point to the center that it is closest to.  Once all the points have been assigned to an associated cluster center, the algorithm then moves each center to a new location by minimizing all the average distances and essentially locating the new barycenter for those assigned points.  This is an iterative process as moving the centers may reassign points to different cluster centers lessening that point’s particular “pull” on the location of the center.  Once the movement of these cluster centers has stabilized the algorithm ends.  However, with K-Means it is good practice to also iterate over the entire process as this will avoid potential problems with local minima since the starting locations of the cluster centers are usually chosen randomly.    \n",
    "\n",
    "Advantages of K-Means:  Due to its simplicity, K-Means is easy to understand, it’s computationally less expensive than other more complex clustering algorithms and it works well for quickly visualizing potential clusters in a given dataset.   \n",
    "\n",
    "Disadvantages of K-Means:  K-Means uses hard-assignment for clustering; this indicates that all the points regardless of where they are in the feature space belong to one of the clusters.  Therefore cluster centers can be affected by noise or individual and groups of outliers.  In addition the algorithm requires a predetermined k-value and as mentioned previously has issues with local minima depending on these initial cluster center locations.  \n",
    "\n",
    "Gaussian Mixture Models (GMM) use statistical probability to generalize K-Means and soft-cluster the data points to associated centroids.  The model assumes that each population is generated from a combination of a finite number of sub-populations with unknown parameters.  \n",
    "\n",
    "Advantages of GMM:  GMM can be extremely powerful given the fact that not only will it assign data points to individual cluster centers it also computes the probability value that those points belong to those clusters.  Also, because it only maximizes likelihood, this algorithm is agnostic to structures and cluster sizes that only ‘might’ apply.  \n",
    "\n",
    "Disadvantages of GMM:  Due to its complexity and need to calculate the probability that each point belongs to a cluster GMM can be computationally more expensive than K-Means.  It will also always use all the components supplied requiring the need for a secondary technique for deciding the optimal number."
   ]
  },
  {
   "cell_type": "markdown",
   "metadata": {},
   "source": [
    "**6)** Below is some starter code to help you visualize some cluster data. The visualization is based on [this demo](http://scikit-learn.org/stable/auto_examples/cluster/plot_kmeans_digits.html) from the sklearn documentation."
   ]
  },
  {
   "cell_type": "code",
   "execution_count": 85,
   "metadata": {
    "collapsed": true
   },
   "outputs": [],
   "source": [
    "# Import clustering modules\n",
    "from sklearn.cluster import KMeans\n",
    "from sklearn.mixture import GMM"
   ]
  },
  {
   "cell_type": "code",
   "execution_count": 86,
   "metadata": {
    "collapsed": false
   },
   "outputs": [
    {
     "name": "stdout",
     "output_type": "stream",
     "text": [
      "[[-0.05066239  0.13161505]\n",
      " [ 0.34502287  0.33556674]\n",
      " [ 0.37738285  0.21406486]\n",
      " [-0.07718708 -0.5212911 ]\n",
      " [-0.83067886 -0.17928035]\n",
      " [ 0.2155776  -0.07967954]\n",
      " [ 0.05576966 -0.16710073]\n",
      " [ 0.34874672  0.11866355]\n",
      " [ 0.52313722 -0.18311407]\n",
      " [ 0.37595155  1.11903068]]\n"
     ]
    }
   ],
   "source": [
    "# TODO: First we reduce the data to two dimensions using PCA to capture variation\n",
    "pca = PCA(n_components = 2, whiten=True)\n",
    "pca.fit(data)\n",
    "\n",
    "reduced_data = pca.transform(data)\n",
    "print reduced_data[:10]  # print upto 10 elements"
   ]
  },
  {
   "cell_type": "code",
   "execution_count": 161,
   "metadata": {
    "collapsed": false
   },
   "outputs": [
    {
     "data": {
      "text/plain": [
       "(-0.4, 1.0)"
      ]
     },
     "execution_count": 161,
     "metadata": {},
     "output_type": "execute_result"
    },
    {
     "data": {
      "image/png": "[encoded data removed]",
      "text/plain": [
       "<matplotlib.figure.Figure at 0xd33d828>"
      ]
     },
     "metadata": {},
     "output_type": "display_data"
    }
   ],
   "source": [
    "#visualize PCA component vectors \n",
    "def biplot(df):\n",
    "    pca = PCA(n_components = 2, whiten=True)\n",
    "    pca.fit(df)\n",
    "    \n",
    "    ax = pd.DataFrame(pca.transform(df), columns=['PC1', 'PC2']).plot(\n",
    "        kind='scatter', x='PC1', y='PC2', figsize=(8, 6), s=3.0)\n",
    "\n",
    "    for i, (pc1, pc2) in enumerate(zip(pca.components_[0], pca.components_[1])):\n",
    "            ax.arrow(0, 0, pc1, pc2, width=0.001, fc='red', ec='red')\n",
    "            ax.annotate(data.columns[i], (pc1, pc2), size=15)\n",
    "\n",
    "    return ax\n",
    "\n",
    "ax = biplot(data)\n",
    "ax.set_xlim([-1.5, 1.0])\n",
    "ax.set_ylim([-.4, 1.0])"
   ]
  },
  {
   "cell_type": "code",
   "execution_count": 149,
   "metadata": {
    "collapsed": false
   },
   "outputs": [
    {
     "name": "stdout",
     "output_type": "stream",
     "text": [
      "GMM(covariance_type='diag', init_params='wmc', min_covar=0.001,\n",
      "  n_components=8, n_init=1, n_iter=100, params='wmc', random_state=None,\n",
      "  thresh=None, tol=0.001, verbose=0)\n"
     ]
    },
    {
     "data": {
      "image/png": "[encoded data removed]",
      "text/plain": [
       "<matplotlib.figure.Figure at 0x9e00518>"
      ]
     },
     "metadata": {},
     "output_type": "display_data"
    }
   ],
   "source": [
    "import itertools \n",
    "\n",
    "#find the optimal number of components for GMM using the BIC method. \n",
    "lowest_bic = np.infty\n",
    "bic = []\n",
    "n_components_range = range(1, 15)\n",
    "cv_types = ['spherical', 'tied', 'diag', 'full']\n",
    "for cv_type in cv_types:\n",
    "    for n_components in n_components_range:\n",
    "        gmm = GMM(n_components=n_components, covariance_type=cv_type)\n",
    "        gmm.fit(reduced_data)\n",
    "        bic.append(gmm.bic(reduced_data))\n",
    "        if bic[-1] < lowest_bic:\n",
    "            lowest_bic = bic[-1]\n",
    "            best_gmm = gmm \n",
    "\n",
    "#print the best model \n",
    "print best_gmm\n",
    "\n",
    "bic = np.array(bic)\n",
    "color_iter = itertools.cycle(['b', 'c', 'm', 'y'])\n",
    "bars = []\n",
    "\n",
    "# Plot the BIC scores\n",
    "fig = plt.figure()\n",
    "ax = fig.add_subplot(111)\n",
    "for i, (cv_type, color) in enumerate(zip(cv_types, color_iter)):\n",
    "    xpos = np.array(n_components_range) + .2 * (i - 2)\n",
    "    bars.append(plt.bar(xpos, bic[i * len(n_components_range):\n",
    "                                  (i + 1) * len(n_components_range)],\n",
    "                        width=.2, color=color))\n",
    "plt.xticks(n_components_range)\n",
    "plt.ylim([bic.min() * 1.01 - .01 * bic.max(), bic.max()])\n",
    "plt.title('BIC score per model')\n",
    "xpos = np.mod(bic.argmin(), len(n_components_range)) + .65 +\\\n",
    "    .2 * np.floor(bic.argmin() / len(n_components_range))\n",
    "plt.text(xpos - 0.05, bic.min() * 0.97 + .02 * bic.max(), '*', fontsize=14)\n",
    "ax.set_xlabel('Number of components')\n",
    "plt.legend([b[0] for b in bars], cv_types)\n",
    "plt.show()"
   ]
  },
  {
   "cell_type": "code",
   "execution_count": 133,
   "metadata": {
    "collapsed": false
   },
   "outputs": [
    {
     "data": {
      "text/plain": [
       "GMM(covariance_type='diag', init_params='wmc', min_covar=0.001,\n",
       "  n_components=8, n_init=1, n_iter=100, params='wmc', random_state=None,\n",
       "  thresh=None, tol=0.001, verbose=0)"
      ]
     },
     "execution_count": 133,
     "metadata": {},
     "output_type": "execute_result"
    }
   ],
   "source": [
    "# TODO: Implement your clustering algorithm here, and fit it to the reduced data for visualization\n",
    "# The visualizer below assumes your clustering object is named 'clusters'\n",
    "\n",
    "clusters = best_gmm\n",
    "clusters.fit(reduced_data)"
   ]
  },
  {
   "cell_type": "code",
   "execution_count": 134,
   "metadata": {
    "collapsed": false
   },
   "outputs": [],
   "source": [
    "# Plot the decision boundary by building a mesh grid to populate a graph.\n",
    "x_min, x_max = reduced_data[:, 0].min() - 1, reduced_data[:, 0].max() + 1\n",
    "y_min, y_max = reduced_data[:, 1].min() - 1, reduced_data[:, 1].max() + 1\n",
    "hx = (x_max-x_min)/1000.\n",
    "hy = (y_max-y_min)/1000.\n",
    "xx, yy = np.meshgrid(np.arange(x_min, x_max, hx), np.arange(y_min, y_max, hy))\n",
    "\n",
    "# Obtain labels for each point in mesh. Use last trained model.\n",
    "Z = clusters.predict(np.c_[xx.ravel(), yy.ravel()])"
   ]
  },
  {
   "cell_type": "code",
   "execution_count": 135,
   "metadata": {
    "collapsed": false
   },
   "outputs": [
    {
     "name": "stdout",
     "output_type": "stream",
     "text": [
      "[[ 0.72700396  0.45695757]\n",
      " [-2.08595157 -0.69632251]\n",
      " [ 0.01119555 -0.63183782]\n",
      " [-1.60349979  3.81157765]\n",
      " [ 0.59656707 -0.44360854]\n",
      " [ 0.20714278  1.29409911]\n",
      " [-8.09506122  0.82266507]\n",
      " [-0.41905034 -0.07324302]]\n"
     ]
    }
   ],
   "source": [
    "# TODO: Find the centroids for KMeans or the cluster means for GMM \n",
    "\n",
    "#centroids for K-Means\n",
    "#centroids = clusters.cluster_centers_\n",
    "\n",
    "#centroids for GMM\n",
    "centroids = clusters.means_ \n",
    "\n",
    "print centroids"
   ]
  },
  {
   "cell_type": "code",
   "execution_count": 156,
   "metadata": {
    "collapsed": false
   },
   "outputs": [
    {
     "data": {
      "image/png": "[encoded data removed]",
      "text/plain": [
       "<matplotlib.figure.Figure at 0xd1de198>"
      ]
     },
     "metadata": {},
     "output_type": "display_data"
    }
   ],
   "source": [
    "# Put the result into a color plot\n",
    "Z = Z.reshape(xx.shape)\n",
    "plt.figure(1)\n",
    "plt.clf()\n",
    "plt.imshow(Z, interpolation='nearest',\n",
    "           extent=(xx.min(), xx.max(), yy.min(), yy.max()),\n",
    "           cmap=plt.cm.Paired,\n",
    "           aspect='auto', origin='lower')\n",
    "\n",
    "plt.plot(reduced_data[:, 0], reduced_data[:, 1], 'k.', markersize=3)\n",
    "plt.scatter(centroids[:, 0], centroids[:, 1],\n",
    "            marker='x', s=169, linewidths=3,\n",
    "            color='w', zorder=10)\n",
    "plt.title('Clustering on the wholesale grocery dataset (PCA-reduced data)\\n'\n",
    "          'Centroids are marked with white cross')\n",
    "plt.xlim(x_min, x_max-0.5)\n",
    "plt.ylim(y_min+0.5, y_max)\n",
    "plt.xticks(())\n",
    "plt.yticks(())\n",
    "plt.show()"
   ]
  },
  {
   "cell_type": "code",
   "execution_count": 185,
   "metadata": {
    "collapsed": false
   },
   "outputs": [
    {
     "name": "stdout",
     "output_type": "stream",
     "text": [
      "The total number of customers in cluster 0 is 84.\n",
      "Fresh                2245.119048\n",
      "Milk                 7649.226190\n",
      "Grocery             12195.821429\n",
      "Frozen               1281.785714\n",
      "Detergents_Paper     5322.785714\n",
      "Delicatessen         1227.214286\n",
      "dtype: float64\n",
      "\n",
      "The total number of customers in cluster 1 is 27.\n",
      "Fresh               42668.407407\n",
      "Milk                 2601.148148\n",
      "Grocery              3800.148148\n",
      "Frozen               5411.518519\n",
      "Detergents_Paper      718.592593\n",
      "Delicatessen         2029.074074\n",
      "dtype: float64\n",
      "\n",
      "The total number of customers in cluster 2 is 123.\n",
      "Fresh               12676.837398\n",
      "Milk                 1596.536585\n",
      "Grocery              2011.975610\n",
      "Frozen               3660.300813\n",
      "Detergents_Paper      350.097561\n",
      "Delicatessen          799.918699\n",
      "dtype: float64\n",
      "\n",
      "The total number of customers in cluster 3 is 9.\n",
      "Fresh               25043.666667\n",
      "Milk                37154.000000\n",
      "Grocery             47115.111111\n",
      "Frozen               6627.333333\n",
      "Detergents_Paper    20716.444444\n",
      "Delicatessen         9478.888889\n",
      "dtype: float64\n",
      "\n",
      "The total number of customers in cluster 4 is 86.\n",
      "Fresh               4346.000000\n",
      "Milk                2738.976744\n",
      "Grocery             3289.476744\n",
      "Frozen              2247.000000\n",
      "Detergents_Paper     706.209302\n",
      "Delicatessen        1063.581395\n",
      "dtype: float64\n",
      "\n",
      "The total number of customers in cluster 5 is 34.\n",
      "Fresh                7466.735294\n",
      "Milk                16039.705882\n",
      "Grocery             22498.411765\n",
      "Frozen               2284.705882\n",
      "Detergents_Paper     9986.529412\n",
      "Delicatessen         1965.352941\n",
      "dtype: float64\n",
      "\n",
      "The total number of customers in cluster 6 is 1.\n",
      "Fresh               112151.0\n",
      "Milk                 29627.0\n",
      "Grocery              18148.0\n",
      "Frozen               16745.0\n",
      "Detergents_Paper      4948.0\n",
      "Delicatessen          8550.0\n",
      "dtype: float64\n",
      "\n",
      "The total number of customers in cluster 7 is 76.\n",
      "Fresh               18619.394737\n",
      "Milk                 6530.289474\n",
      "Grocery              8342.250000\n",
      "Frozen               3951.828947\n",
      "Detergents_Paper     2192.197368\n",
      "Delicatessen         2138.578947\n",
      "dtype: float64\n",
      "\n"
     ]
    }
   ],
   "source": [
    "#What's in each cluster??? \n",
    "i = clusters.predict(reduced_data)\n",
    "\n",
    "for cluster_value in range(clusters.n_components):\n",
    "    print \"The total number of customers in cluster {} is {}.\".format(cluster_value, len(data[i==cluster_value]))\n",
    "    print data[i==cluster_value].mean()\n",
    "    print ''"
   ]
  },
  {
   "cell_type": "markdown",
   "metadata": {},
   "source": [
    "**7)** What are the central objects in each cluster? Describe them as customers."
   ]
  },
  {
   "cell_type": "markdown",
   "metadata": {
    "collapsed": true
   },
   "source": [
    "Answer: \n",
    "\n",
    "Cluster 0:  This customer type buys relatively high volumes of Milk and Grocery items, but does not have typically stock Fresh or Frozen items.  It’s also important to note that while Detergents and Paper was not flagged as a key high value it is purchased in substantial volumes compared to the other categories.  This customer could represent a Gas Station or Convenient store they buy some of everything but limit the purchase of Fresh, Frozen and Delicatessen items.   \n",
    "\n",
    "Cluster 1:  The major stand out feature for this particular customer type is Fresh items.  This is likely a large farmers market or a bigger grocery store that mainly focuses on selling higher volumes of fresh items/produce.  \n",
    "\n",
    "Cluster 2:  This cluster is similar to Cluster 1, however the volumes are roughly ¼ the scale.  This could be a smaller farmers market or a specialty produce store that focuses on quality over quantity.\n",
    "\n",
    "Cluster 3:  Is a one-stop shop type customer (Fred Meyers).  They have Groceries, Milk and Fresh items, but you can also find you stationary and house cleaners and stop by the deli on the way out to grab a freshly made sandwich or potato salad.  \n",
    "\n",
    "Cluster 4:  These customers are likely family run grocery stores, small volumes but they are still buying items from each of the categories. \n",
    "\n",
    "Cluster 5:  This is an Albertson’s type of establishment.  They are mainly focused on milk and groceries with less emphasis on being a one-stop shop.  However, they do still have those general items if a customer thinks of it while doing some shopping.\n",
    "\n",
    "Cluster 6:  This customer is alone in its own cluster and it’s mostly due to the super high volumes of fresh items.  This is almost like another wholesaler of produce items or could be a distributor warehouse that supplies a chain of smaller grocery stores.   \n",
    "\n",
    "Cluster 7:  These customers are similar to those from Cluster 2, in the sense that they value selling fresh items but they still have relatively high volumes of the other items as well.  These customers are likely like New Seasons or Whole Foods, where the emphasis is on fresh ingredients, but you can still by general items there as well.   \n"
   ]
  },
  {
   "cell_type": "markdown",
   "metadata": {},
   "source": [
    "### Conclusions\n",
    "\n",
    "** 8)** Which of these techniques did you feel gave you the most insight into the data?"
   ]
  },
  {
   "cell_type": "markdown",
   "metadata": {
    "collapsed": true
   },
   "source": [
    "Answer: PCA seemed to be the technique used that best fit this particular dataset.  The fact that almost 90% of the data’s variance could be explained by 2 composite variables was extremely helpful not only for dimensionality reduction but also the customer cluster visualization.  "
   ]
  },
  {
   "cell_type": "markdown",
   "metadata": {
    "collapsed": true
   },
   "source": [
    "**9)** How would you use that technique to help the company design new experiments?"
   ]
  },
  {
   "cell_type": "markdown",
   "metadata": {},
   "source": [
    "Answer: PCA alone can help identify which features contribute most to these composite features and because those contain the most variance they are features that provide information on specific items purchased by all customer types. "
   ]
  },
  {
   "cell_type": "markdown",
   "metadata": {},
   "source": [
    "**10)** How would you use that data to help you predict future customer needs?"
   ]
  },
  {
   "cell_type": "markdown",
   "metadata": {},
   "source": [
    "Answer: Based on the customer segments that have been identified we now understand the types of customers this wholesaler has.  It is this level of detail and understanding of who the customer is and how best to cater to their needs that assists in also identifying a solution to the original problem.  Customers who build their businesses on marketing themselves as a specialty stores that deliver high quality ‘fresh’ products may need and want shipments in the morning.  This will allow their customers to see that these products are delivered fresh and stocked daily.  On the other hand, big box stores or customers who frequently buy frozen products and general groceries may not mind stocking products at night when the store is less busy.   \n",
    "\n",
    "This data could also be used to target specific customer segments by providing them new product advertisement or information in categories that they frequently purchase.  This could potentially boost sales for the wholesaler or just provide a general feeling that the company cares about their success and wants to grow together.   \n",
    "\n",
    "Finally, these clusters can be labeled and fed into a supervised learning model.  This model can then be used to predict which cluster new customers will belong to.  Equipped with this information their needs can be targeted based on the wholesaler’s experience serving past customers that belong to the same associated customer type. "
   ]
  }
 ],
 "metadata": {
  "kernelspec": {
   "display_name": "Python 2",
   "language": "python",
   "name": "python2"
  },
  "language_info": {
   "codemirror_mode": {
    "name": "ipython",
    "version": 2
   },
   "file_extension": ".py",
   "mimetype": "text/x-python",
   "name": "python",
   "nbconvert_exporter": "python",
   "pygments_lexer": "ipython2",
   "version": "2.7.11"
  }
 },
 "nbformat": 4,
 "nbformat_minor": 0
}
